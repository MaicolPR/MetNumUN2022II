{
  "cells": [
    {
      "cell_type": "markdown",
      "metadata": {
        "id": "view-in-github",
        "colab_type": "text"
      },
      "source": [
        "<a href=\"https://colab.research.google.com/github/mpenaro/MetNumUN2022II/blob/main/Lab1.ipynb\" target=\"_parent\"><img src=\"https://colab.research.google.com/assets/colab-badge.svg\" alt=\"Open In Colab\"/></a>"
      ]
    },
    {
      "cell_type": "markdown",
      "source": [
        "# Lectura 1"
      ],
      "metadata": {
        "id": "FZKBsp3dwQKc"
      }
    },
    {
      "cell_type": "markdown",
      "metadata": {
        "id": "REzZ0rwiZLeR"
      },
      "source": [
        "My own example 1"
      ]
    },
    {
      "cell_type": "code",
      "execution_count": null,
      "metadata": {
        "colab": {
          "base_uri": "https://localhost:8080/"
        },
        "id": "46uvzhALZeHf",
        "outputId": "6e337104-166a-40be-9b4e-efba581d91b1"
      },
      "outputs": [
        {
          "data": {
            "text/plain": [
              "8"
            ]
          },
          "execution_count": 1,
          "metadata": {},
          "output_type": "execute_result"
        }
      ],
      "source": [
        "4 + 4"
      ]
    },
    {
      "cell_type": "markdown",
      "metadata": {
        "id": "5fYdXcr0ZVXC"
      },
      "source": [
        "My own example 2"
      ]
    },
    {
      "cell_type": "code",
      "execution_count": null,
      "metadata": {
        "id": "TGzlmSzSZ4xP"
      },
      "outputs": [],
      "source": [
        "y = 4"
      ]
    },
    {
      "cell_type": "markdown",
      "metadata": {
        "id": "lNCsnKPMZWb1"
      },
      "source": [
        "My own example 3"
      ]
    },
    {
      "cell_type": "code",
      "execution_count": null,
      "metadata": {
        "colab": {
          "base_uri": "https://localhost:8080/"
        },
        "id": "1mVuTVFwZ_Nj",
        "outputId": "6d140cbb-050d-42ff-a94e-c1df01f9cd5a"
      },
      "outputs": [
        {
          "data": {
            "text/plain": [
              "7"
            ]
          },
          "execution_count": 4,
          "metadata": {},
          "output_type": "execute_result"
        }
      ],
      "source": [
        "2 + 6\n",
        "3 + 4"
      ]
    },
    {
      "cell_type": "markdown",
      "metadata": {
        "id": "46barN41ZWea"
      },
      "source": [
        "My own example 4"
      ]
    },
    {
      "cell_type": "code",
      "execution_count": null,
      "metadata": {
        "colab": {
          "base_uri": "https://localhost:8080/"
        },
        "id": "Pzwnc3LzaD-N",
        "outputId": "327a0dc8-02de-442f-fa6b-f9161b052e25"
      },
      "outputs": [
        {
          "name": "stdout",
          "output_type": "stream",
          "text": [
            "7\n"
          ]
        },
        {
          "data": {
            "text/plain": [
              "9"
            ]
          },
          "execution_count": 8,
          "metadata": {},
          "output_type": "execute_result"
        }
      ],
      "source": [
        "print(6 + 1) \n",
        "4 +5"
      ]
    },
    {
      "cell_type": "markdown",
      "metadata": {
        "id": "PCHG7CREZWg6"
      },
      "source": [
        "My own example 5"
      ]
    },
    {
      "cell_type": "code",
      "execution_count": null,
      "metadata": {
        "colab": {
          "base_uri": "https://localhost:8080/"
        },
        "id": "ryg_F_DraU4a",
        "outputId": "4f2ae443-980a-43a1-ad2b-8c9dcb339170"
      },
      "outputs": [
        {
          "data": {
            "text/plain": [
              "45"
            ]
          },
          "execution_count": 15,
          "metadata": {},
          "output_type": "execute_result"
        }
      ],
      "source": [
        "b = 0\n",
        "for i in range(10):\n",
        "    b = b + i\n",
        "b"
      ]
    },
    {
      "cell_type": "markdown",
      "metadata": {
        "id": "O4RpARntZWjG"
      },
      "source": [
        "My own example 5"
      ]
    },
    {
      "cell_type": "code",
      "execution_count": null,
      "metadata": {
        "id": "aebIBdkaXtiw"
      },
      "outputs": [],
      "source": [
        "import numpy as np\n",
        "import pandas as pd\n",
        "import matplotlib.pyplot as plt"
      ]
    },
    {
      "cell_type": "markdown",
      "metadata": {
        "id": "4nlZsXZGbpJw"
      },
      "source": [
        "My own example 6\n"
      ]
    },
    {
      "cell_type": "code",
      "execution_count": null,
      "metadata": {
        "id": "VdteQE4XcM2E"
      },
      "outputs": [],
      "source": [
        "np.random.binomial?"
      ]
    },
    {
      "cell_type": "markdown",
      "metadata": {
        "id": "_LI35tGAbxOR"
      },
      "source": [
        "My own example 7\n"
      ]
    },
    {
      "cell_type": "code",
      "execution_count": null,
      "metadata": {
        "id": "qyi8tzbYclZp"
      },
      "outputs": [],
      "source": [
        "X = np.random.normal(2, 5, 50) #Usa ditribucion normal"
      ]
    },
    {
      "cell_type": "markdown",
      "metadata": {
        "id": "yUztLan8bxRF"
      },
      "source": [
        "My own example 8\n"
      ]
    },
    {
      "cell_type": "code",
      "execution_count": null,
      "metadata": {
        "colab": {
          "base_uri": "https://localhost:8080/",
          "height": 282
        },
        "id": "-AKs_pkxc47p",
        "outputId": "03a4f226-8ed4-410f-f3ab-242c11966768"
      },
      "outputs": [
        {
          "data": {
            "text/plain": [
              "[<matplotlib.lines.Line2D at 0x7f3502912650>]"
            ]
          },
          "execution_count": 26,
          "metadata": {},
          "output_type": "execute_result"
        },
        {
          "data": {
            "image/png": "[encoded data removed]",
            "text/plain": [
              "<Figure size 432x288 with 1 Axes>"
            ]
          },
          "metadata": {},
          "output_type": "display_data"
        }
      ],
      "source": [
        "plt.plot(X)"
      ]
    },
    {
      "cell_type": "markdown",
      "metadata": {
        "id": "u7cL6P4ZbxTl"
      },
      "source": [
        "My own example 9\n"
      ]
    },
    {
      "cell_type": "code",
      "execution_count": null,
      "metadata": {
        "colab": {
          "base_uri": "https://localhost:8080/",
          "height": 279
        },
        "id": "l9U3v964dReJ",
        "outputId": "11212ede-8bc5-4200-d362-5ae9d780b88d"
      },
      "outputs": [
        {
          "data": {
            "image/png": "[encoded data removed]",
            "text/plain": [
              "<Figure size 432x288 with 1 Axes>"
            ]
          },
          "metadata": {},
          "output_type": "display_data"
        }
      ],
      "source": [
        "X = np.random.normal(1, 2, 30)\n",
        "X2 = np.random.normal(2, 4, 30)\n",
        "\n",
        "plt.plot(X);\n",
        "plt.plot(X2);\n",
        "plt.xlabel('Tiempo')\n",
        "plt.ylabel('Devuelve')\n",
        "plt.legend(['X', 'X2']);"
      ]
    },
    {
      "cell_type": "markdown",
      "metadata": {
        "id": "AJ5c4w89bxWA"
      },
      "source": [
        "My own example 10\n"
      ]
    },
    {
      "cell_type": "code",
      "execution_count": null,
      "metadata": {
        "id": "oTeB24DwdnjK"
      },
      "outputs": [],
      "source": [
        "np.mean(X) #Calcula media"
      ]
    },
    {
      "cell_type": "markdown",
      "metadata": {
        "id": "V_JIgLWMbxt7"
      },
      "source": [
        "My own example 11\n"
      ]
    },
    {
      "cell_type": "code",
      "execution_count": null,
      "metadata": {
        "colab": {
          "base_uri": "https://localhost:8080/"
        },
        "id": "UBrzQQgRdxJI",
        "outputId": "111918e8-5884-4ae2-8329-563766d6a747"
      },
      "outputs": [
        {
          "data": {
            "text/plain": [
              "4.148175580908758"
            ]
          },
          "execution_count": 40,
          "metadata": {},
          "output_type": "execute_result"
        }
      ],
      "source": [
        "np.std(X2) #calcula desviación estandar"
      ]
    },
    {
      "cell_type": "markdown",
      "metadata": {
        "id": "7ITLlEP53ug3"
      },
      "source": [
        "# Lectura 2"
      ]
    },
    {
      "cell_type": "markdown",
      "metadata": {
        "id": "nAyJloePbxwI"
      },
      "source": [
        "My own example 12\n"
      ]
    },
    {
      "cell_type": "code",
      "execution_count": null,
      "metadata": {
        "colab": {
          "base_uri": "https://localhost:8080/",
          "height": 35
        },
        "id": "IEVQX-VPegZg",
        "outputId": "3e7c6848-8d07-4f69-a0cb-7a6598fe4e2e"
      },
      "outputs": [
        {
          "data": {
            "application/vnd.google.colaboratory.intrinsic+json": {
              "type": "string"
            },
            "text/plain": [
              "' Esta es un string especial '"
            ]
          },
          "execution_count": 49,
          "metadata": {},
          "output_type": "execute_result"
        }
      ],
      "source": [
        "\"\"\" Esta es un string especial \"\"\""
      ]
    },
    {
      "cell_type": "markdown",
      "metadata": {
        "id": "V34b1EFhbxyO"
      },
      "source": [
        "My own example 13\n",
        "\n"
      ]
    },
    {
      "cell_type": "code",
      "execution_count": null,
      "metadata": {
        "colab": {
          "base_uri": "https://localhost:8080/"
        },
        "id": "GgIbFMGggrF6",
        "outputId": "47c05674-2394-4dac-c11d-fbacf702fbd4"
      },
      "outputs": [
        {
          "name": "stdout",
          "output_type": "stream",
          "text": [
            "5 <class 'int'>\n"
          ]
        }
      ],
      "source": [
        "mi_entero = 5\n",
        "print (mi_entero, type(mi_entero))"
      ]
    },
    {
      "cell_type": "markdown",
      "metadata": {
        "id": "QsADdU2pbx0b"
      },
      "source": [
        "My own example 14\n"
      ]
    },
    {
      "cell_type": "code",
      "execution_count": null,
      "metadata": {
        "colab": {
          "base_uri": "https://localhost:8080/"
        },
        "id": "xNyZ0CVIhOnq",
        "outputId": "703bb0e6-6c63-4dc3-ddbe-e2efdfd449a2"
      },
      "outputs": [
        {
          "name": "stdout",
          "output_type": "stream",
          "text": [
            "3\n"
          ]
        }
      ],
      "source": [
        "tres = 3\n",
        "print(tres)"
      ]
    },
    {
      "cell_type": "markdown",
      "metadata": {
        "id": "g27F34xEbx2r"
      },
      "source": [
        "My own example 15\n"
      ]
    },
    {
      "cell_type": "code",
      "execution_count": null,
      "metadata": {
        "colab": {
          "base_uri": "https://localhost:8080/"
        },
        "id": "HRiSkUmKhWKA",
        "outputId": "51520349-a255-4760-c5cb-56154dc32a26"
      },
      "outputs": [
        {
          "name": "stdout",
          "output_type": "stream",
          "text": [
            "5.5 <class 'float'>\n",
            "1.0 <class 'float'>\n"
          ]
        }
      ],
      "source": [
        "my_float = 5.5\n",
        "print (my_float, type(my_float))\n",
        "my_float = float(1)\n",
        "print (my_float, type(my_float))"
      ]
    },
    {
      "cell_type": "markdown",
      "metadata": {
        "id": "Ur-JMXlrbx49"
      },
      "source": [
        "My own example 16\n"
      ]
    },
    {
      "cell_type": "code",
      "execution_count": null,
      "metadata": {
        "colab": {
          "base_uri": "https://localhost:8080/"
        },
        "id": "20rIF8tohfAs",
        "outputId": "e6e8ab85-1988-4ec9-dd38-06f2c4397055"
      },
      "outputs": [
        {
          "name": "stdout",
          "output_type": "stream",
          "text": [
            "5 <class 'int'>\n"
          ]
        }
      ],
      "source": [
        "mi_entero = int(5.5)\n",
        "print(mi_entero, type(mi_entero))"
      ]
    },
    {
      "cell_type": "markdown",
      "metadata": {
        "id": "YmiiHozMbx7d"
      },
      "source": [
        "My own example 17\n"
      ]
    },
    {
      "cell_type": "code",
      "execution_count": null,
      "metadata": {
        "colab": {
          "base_uri": "https://localhost:8080/"
        },
        "id": "xP7wvr0ai70I",
        "outputId": "a4b1cb4b-620e-491c-8c00-683158682141"
      },
      "outputs": [
        {
          "name": "stdout",
          "output_type": "stream",
          "text": [
            "String con comillas simples\n",
            "String con comillas dobles\n"
          ]
        }
      ],
      "source": [
        "mi_string = 'String con comillas simples'\n",
        "print (mi_string)\n",
        "mi_string = \"String con comillas dobles\"\n",
        "print (mi_string)"
      ]
    },
    {
      "cell_type": "markdown",
      "metadata": {
        "id": "jGSptoCybyNr"
      },
      "source": [
        "My own example 18\n"
      ]
    },
    {
      "cell_type": "code",
      "execution_count": null,
      "metadata": {
        "colab": {
          "base_uri": "https://localhost:8080/"
        },
        "id": "372i34j43II0",
        "outputId": "43e317e6-0bad-4311-849e-72f7f66d199b"
      },
      "outputs": [
        {
          "name": "stdout",
          "output_type": "stream",
          "text": [
            "\"Texto en comillas dobles\",  dentro de comillas simples\n",
            "'Texto en comillas simples dentor de dobles\n"
          ]
        }
      ],
      "source": [
        "mi_string = '\"Texto en comillas dobles\",  dentro de comillas simples'\n",
        "print (mi_string)\n",
        "mi_string = \"'Texto en comillas simples dentor de dobles\"\n",
        "print (mi_string)"
      ]
    },
    {
      "cell_type": "markdown",
      "metadata": {
        "id": "nFnvoxt4byQV"
      },
      "source": [
        "My own example 19\n"
      ]
    },
    {
      "cell_type": "code",
      "execution_count": null,
      "metadata": {
        "colab": {
          "background_save": true,
          "base_uri": "https://localhost:8080/",
          "height": 131
        },
        "id": "btx9sZlr5KPm",
        "outputId": "d4dbbb12-5eeb-4751-b042-58d4c47482ed"
      },
      "outputs": [
        {
          "name": "stdout",
          "output_type": "stream",
          "text": [
            "True <class 'bool'>\n"
          ]
        }
      ],
      "source": [
        "mi_bool = True\n",
        "print(mi_bool, type(mi_bool))"
      ]
    },
    {
      "cell_type": "markdown",
      "metadata": {
        "id": "PuUpyxbCbyTr"
      },
      "source": [
        "My own example 20\n"
      ]
    },
    {
      "cell_type": "code",
      "execution_count": null,
      "metadata": {
        "id": "JVt0AgYHbtYk",
        "colab": {
          "base_uri": "https://localhost:8080/"
        },
        "outputId": "7348c22b-104f-4a5d-b3be-f9a260915210"
      },
      "outputs": [
        {
          "output_type": "stream",
          "name": "stdout",
          "text": [
            "Resta:  11\n",
            "Division:  5.0\n",
            "Multiplicacion:  10\n",
            "Suma:  4\n",
            "Potencia:  9\n"
          ]
        }
      ],
      "source": [
        "print ('Resta: ', 15 - 4)\n",
        "print ('Division: ', 10 / 2)\n",
        "print ('Multiplicacion: ', 2 * 5)\n",
        "print ('Suma: ', 2 + 2)\n",
        "print ('Potencia: ', 3**2)"
      ]
    },
    {
      "cell_type": "markdown",
      "source": [
        "My own example 21\n"
      ],
      "metadata": {
        "id": "akavhhQc-kAl"
      }
    },
    {
      "cell_type": "code",
      "source": [
        "print ('Modulo: ', 10 % 3)"
      ],
      "metadata": {
        "colab": {
          "base_uri": "https://localhost:8080/"
        },
        "id": "87Kymrz8-C2k",
        "outputId": "cfa2b94a-841c-4506-dfbc-f91b1e218588"
      },
      "execution_count": null,
      "outputs": [
        {
          "output_type": "stream",
          "name": "stdout",
          "text": [
            "Modulo:  1\n"
          ]
        }
      ]
    },
    {
      "cell_type": "markdown",
      "source": [
        "My own example 22\n"
      ],
      "metadata": {
        "id": "-afGwfgk_ESo"
      }
    },
    {
      "cell_type": "code",
      "source": [
        "entero_uno = 6\n",
        "entero_dos = 7\n",
        "print (entero_uno * entero_dos)"
      ],
      "metadata": {
        "colab": {
          "base_uri": "https://localhost:8080/"
        },
        "id": "C82rJHGd-uvl",
        "outputId": "50c2dc8c-6d35-47b5-f9c7-ccbb48b05b8f"
      },
      "execution_count": null,
      "outputs": [
        {
          "output_type": "stream",
          "name": "stdout",
          "text": [
            "42\n"
          ]
        }
      ]
    },
    {
      "cell_type": "markdown",
      "source": [
        "My own example 23\n"
      ],
      "metadata": {
        "id": "P2tBVG15_Bpk"
      }
    },
    {
      "cell_type": "code",
      "source": [
        "primero = 12.4\n",
        "segundo = 3.4\n",
        "print (primero / segundo)"
      ],
      "metadata": {
        "colab": {
          "base_uri": "https://localhost:8080/"
        },
        "id": "VEjKSR9L-9d0",
        "outputId": "2e2e3e7e-c34c-44e4-8bbb-8d88b05f57a3"
      },
      "execution_count": null,
      "outputs": [
        {
          "output_type": "stream",
          "name": "stdout",
          "text": [
            "3.647058823529412\n"
          ]
        }
      ]
    },
    {
      "cell_type": "markdown",
      "source": [
        "My own example 24\n"
      ],
      "metadata": {
        "id": "0MQ45V_0_IfI"
      }
    },
    {
      "cell_type": "code",
      "source": [
        "import math\n",
        "\n",
        "print (\"COnstante de euler\", math.e)"
      ],
      "metadata": {
        "colab": {
          "base_uri": "https://localhost:8080/"
        },
        "id": "33VqSs_4_dEz",
        "outputId": "fda12fe3-9d3e-4fdd-8750-893e035d5b3b"
      },
      "execution_count": null,
      "outputs": [
        {
          "output_type": "stream",
          "name": "stdout",
          "text": [
            "COnstante de euler 2.718281828459045\n"
          ]
        }
      ]
    },
    {
      "cell_type": "markdown",
      "source": [
        "My own example 25\n"
      ],
      "metadata": {
        "id": "ogJQsJqA_IqY"
      }
    },
    {
      "cell_type": "code",
      "source": [
        "print ('Coseno de pi: ', math.cos(math.pi))"
      ],
      "metadata": {
        "colab": {
          "base_uri": "https://localhost:8080/"
        },
        "id": "K_cOSoqG_yJr",
        "outputId": "198525cb-fd2c-4f62-ccd0-764850920d57"
      },
      "execution_count": null,
      "outputs": [
        {
          "output_type": "stream",
          "name": "stdout",
          "text": [
            "Coseno de pi:  -1.0\n"
          ]
        }
      ]
    },
    {
      "cell_type": "markdown",
      "source": [
        "My own example 26\n"
      ],
      "metadata": {
        "id": "PCl2pp1b_It5"
      }
    },
    {
      "cell_type": "code",
      "source": [
        "lista = [1, 3, 5, 7, 11, 13]\n",
        "print (lista)"
      ],
      "metadata": {
        "colab": {
          "base_uri": "https://localhost:8080/"
        },
        "id": "Jlo8Wz88AZEC",
        "outputId": "41bfc341-618b-4ac2-87b6-e6ceadce2d80"
      },
      "execution_count": null,
      "outputs": [
        {
          "output_type": "stream",
          "name": "stdout",
          "text": [
            "[1, 3, 5, 7, 11, 13]\n"
          ]
        }
      ]
    },
    {
      "cell_type": "markdown",
      "source": [
        "My own example 27\n"
      ],
      "metadata": {
        "id": "tcrxWQaP_Iwl"
      }
    },
    {
      "cell_type": "code",
      "source": [
        "print (lista[0])\n",
        "print (lista[5])"
      ],
      "metadata": {
        "colab": {
          "base_uri": "https://localhost:8080/"
        },
        "id": "VQEGy2G2AujC",
        "outputId": "b8c14356-b7ea-4646-ea5e-1506f9f431e4"
      },
      "execution_count": null,
      "outputs": [
        {
          "output_type": "stream",
          "name": "stdout",
          "text": [
            "1\n",
            "13\n"
          ]
        }
      ]
    },
    {
      "cell_type": "markdown",
      "source": [
        "My own example 28\n"
      ],
      "metadata": {
        "id": "QAR2O6Ef_IzV"
      }
    },
    {
      "cell_type": "code",
      "source": [
        "print (len(lista))"
      ],
      "metadata": {
        "colab": {
          "base_uri": "https://localhost:8080/"
        },
        "id": "SrwZVZiNBEnK",
        "outputId": "f4763847-4146-42e2-ebdf-0e449acb3d13"
      },
      "execution_count": null,
      "outputs": [
        {
          "output_type": "stream",
          "name": "stdout",
          "text": [
            "6\n"
          ]
        }
      ]
    },
    {
      "cell_type": "markdown",
      "source": [
        "My own example 29\n"
      ],
      "metadata": {
        "id": "rpi5-y-aAF0U"
      }
    },
    {
      "cell_type": "code",
      "source": [
        "print (lista)\n",
        "lista[3] = 24\n",
        "print (lista)"
      ],
      "metadata": {
        "colab": {
          "base_uri": "https://localhost:8080/"
        },
        "id": "JNgzYYkRBMBY",
        "outputId": "c8e604e0-6f09-4b77-b2ed-ee62bfd063e8"
      },
      "execution_count": null,
      "outputs": [
        {
          "output_type": "stream",
          "name": "stdout",
          "text": [
            "[1, 3, 5, 7, 11, 13]\n",
            "[1, 3, 5, 24, 11, 13]\n"
          ]
        }
      ]
    },
    {
      "cell_type": "markdown",
      "source": [
        "My own example 30\n"
      ],
      "metadata": {
        "id": "tYI2B0IbAGI2"
      }
    },
    {
      "cell_type": "code",
      "source": [
        "lista_2 = ['one', 'two', 'three']\n",
        "lista_3 = [True, 'False', 42]\n",
        "\n",
        "lista_4 = lista + lista_2 + lista_3\n",
        "print (lista_4)"
      ],
      "metadata": {
        "colab": {
          "base_uri": "https://localhost:8080/"
        },
        "id": "ao5yrdMsBYSh",
        "outputId": "4d4622c6-eca6-4784-b633-2c378e76c15a"
      },
      "execution_count": null,
      "outputs": [
        {
          "output_type": "stream",
          "name": "stdout",
          "text": [
            "[1, 3, 5, 24, 11, 13, 'one', 'two', 'three', True, 'False', 42]\n"
          ]
        }
      ]
    },
    {
      "cell_type": "markdown",
      "source": [
        "My own example 31\n"
      ],
      "metadata": {
        "id": "UKewmNlzAGQY"
      }
    },
    {
      "cell_type": "code",
      "source": [
        "print (lista[1:5])"
      ],
      "metadata": {
        "colab": {
          "base_uri": "https://localhost:8080/"
        },
        "id": "deMZt-Z7CAzb",
        "outputId": "997a014b-94df-4243-bed1-53fe5a6d6a80"
      },
      "execution_count": null,
      "outputs": [
        {
          "output_type": "stream",
          "name": "stdout",
          "text": [
            "[3, 5, 24, 11]\n"
          ]
        }
      ]
    },
    {
      "cell_type": "markdown",
      "source": [
        "My own example 32\n"
      ],
      "metadata": {
        "id": "2mS5Iog2AGXk"
      }
    },
    {
      "cell_type": "code",
      "source": [
        "print (lista[1:])"
      ],
      "metadata": {
        "colab": {
          "base_uri": "https://localhost:8080/"
        },
        "id": "1SuvnKPyANKC",
        "outputId": "691d247b-98bb-4c50-9326-3efcde49a41e"
      },
      "execution_count": null,
      "outputs": [
        {
          "output_type": "stream",
          "name": "stdout",
          "text": [
            "[3, 5, 24, 11, 13]\n"
          ]
        }
      ]
    },
    {
      "cell_type": "markdown",
      "source": [
        "# Tutotial 1"
      ],
      "metadata": {
        "id": "fRsUza7oCYsF"
      }
    },
    {
      "cell_type": "markdown",
      "source": [
        "My own example 33"
      ],
      "metadata": {
        "id": "6vkCD3-ECfGk"
      }
    },
    {
      "cell_type": "code",
      "source": [
        "texto_1 = 'Bienvenido'\n",
        "texto_2 = \"a python\"\n",
        "print(texto_1 + ' ' + texto_2)"
      ],
      "metadata": {
        "colab": {
          "base_uri": "https://localhost:8080/"
        },
        "id": "IJ7Do_REC2-1",
        "outputId": "f15717ec-17e8-439c-d114-4ca3409c8a40"
      },
      "execution_count": null,
      "outputs": [
        {
          "output_type": "stream",
          "name": "stdout",
          "text": [
            "Bienvenido a python\n"
          ]
        }
      ]
    },
    {
      "cell_type": "markdown",
      "source": [
        "My own example 34"
      ],
      "metadata": {
        "id": "JqyjeEsLCjip"
      }
    },
    {
      "cell_type": "code",
      "source": [
        "numero_string = \"100\"\n",
        "print(type(numero_string))\n",
        "numero_int = int(numero_string)\n",
        "print(type(numero_int))"
      ],
      "metadata": {
        "colab": {
          "base_uri": "https://localhost:8080/"
        },
        "id": "4rRKVXW8DtWa",
        "outputId": "3121ce40-88c6-47bc-a8f5-b3588e1bf5c3"
      },
      "execution_count": null,
      "outputs": [
        {
          "output_type": "stream",
          "name": "stdout",
          "text": [
            "<class 'str'>\n",
            "<class 'int'>\n"
          ]
        }
      ]
    },
    {
      "cell_type": "markdown",
      "source": [
        "My own example 35"
      ],
      "metadata": {
        "id": "BsUiSGHMCjn2"
      }
    },
    {
      "cell_type": "code",
      "source": [
        "numero_string = \"100\"\n",
        "print(type(numero_string))\n",
        "numero_float = float(numero_string)\n",
        "print(type(numero_float))"
      ],
      "metadata": {
        "colab": {
          "base_uri": "https://localhost:8080/"
        },
        "id": "cIxAB_tfEXRK",
        "outputId": "2fc186b3-4005-4ec2-fcd0-b28bbaa06901"
      },
      "execution_count": null,
      "outputs": [
        {
          "output_type": "stream",
          "name": "stdout",
          "text": [
            "<class 'str'>\n",
            "<class 'float'>\n"
          ]
        }
      ]
    },
    {
      "cell_type": "markdown",
      "source": [
        "My own example 36"
      ],
      "metadata": {
        "id": "isRRYSjqCjuh"
      }
    },
    {
      "cell_type": "code",
      "source": [
        "print(12/6)\n",
        "print(1.5/2)"
      ],
      "metadata": {
        "colab": {
          "base_uri": "https://localhost:8080/"
        },
        "id": "KD_BtrvEEtZp",
        "outputId": "e9637286-d110-4ac4-9291-93fcde1d27a1"
      },
      "execution_count": null,
      "outputs": [
        {
          "output_type": "stream",
          "name": "stdout",
          "text": [
            "2.0\n",
            "0.75\n"
          ]
        }
      ]
    },
    {
      "cell_type": "markdown",
      "source": [
        "My own example 37"
      ],
      "metadata": {
        "id": "fumdjaTUCj0I"
      }
    },
    {
      "cell_type": "code",
      "source": [
        "lista = ['Hola', 'Bienvenido', 1,3,5]\n",
        "print(len(lista))\n",
        "print(lista[len(lista) -2])"
      ],
      "metadata": {
        "colab": {
          "base_uri": "https://localhost:8080/"
        },
        "id": "n1NY4XCfE5iY",
        "outputId": "084076dd-e26d-4ca4-c82b-640e7d32377e"
      },
      "execution_count": null,
      "outputs": [
        {
          "output_type": "stream",
          "name": "stdout",
          "text": [
            "5\n",
            "3\n"
          ]
        }
      ]
    },
    {
      "cell_type": "markdown",
      "source": [
        "My own example 38"
      ],
      "metadata": {
        "id": "6jGZYEDWCj4X"
      }
    },
    {
      "cell_type": "code",
      "source": [
        "print(lista[0:3])"
      ],
      "metadata": {
        "colab": {
          "base_uri": "https://localhost:8080/"
        },
        "id": "feEnFrRuFOJD",
        "outputId": "aaec1a1e-5664-4480-a348-68289e811a79"
      },
      "execution_count": null,
      "outputs": [
        {
          "output_type": "stream",
          "name": "stdout",
          "text": [
            "['Hola', 'Bienvenido', 1]\n"
          ]
        }
      ]
    },
    {
      "cell_type": "markdown",
      "source": [
        "My own example 39"
      ],
      "metadata": {
        "id": "SJMo6OKDCkl4"
      }
    },
    {
      "cell_type": "code",
      "source": [
        "print(lista[:2])"
      ],
      "metadata": {
        "id": "3aOggB6cFhOd"
      },
      "execution_count": null,
      "outputs": []
    },
    {
      "cell_type": "markdown",
      "source": [
        "My own example 40"
      ],
      "metadata": {
        "id": "AUbd82RnCktW"
      }
    },
    {
      "cell_type": "code",
      "source": [
        "lista.append('astro')\n",
        "print(lista)"
      ],
      "metadata": {
        "colab": {
          "base_uri": "https://localhost:8080/"
        },
        "id": "Qlu6yUEOFu52",
        "outputId": "87517061-4cac-451e-de74-ea2d1cb30e0c"
      },
      "execution_count": null,
      "outputs": [
        {
          "output_type": "stream",
          "name": "stdout",
          "text": [
            "['Hola', 'Bienvenido', 1, 3, 5, 'astro']\n"
          ]
        }
      ]
    },
    {
      "cell_type": "markdown",
      "source": [
        "My own example 41"
      ],
      "metadata": {
        "id": "FSCmTCDVCk0o"
      }
    },
    {
      "cell_type": "code",
      "source": [
        "lista.remove('Hola')\n",
        "print(lista)"
      ],
      "metadata": {
        "colab": {
          "base_uri": "https://localhost:8080/"
        },
        "id": "PKVhC9siF3yL",
        "outputId": "554a145b-0e3d-4d4a-cf91-02fe91a74027"
      },
      "execution_count": null,
      "outputs": [
        {
          "output_type": "stream",
          "name": "stdout",
          "text": [
            "['Bienvenido', 1, 3, 5, 'astro']\n"
          ]
        }
      ]
    },
    {
      "cell_type": "markdown",
      "source": [
        "My own example 42"
      ],
      "metadata": {
        "id": "zZmHMkvyCk7j"
      }
    },
    {
      "cell_type": "code",
      "source": [
        "tupla = ('Hola','te','conectaste')"
      ],
      "metadata": {
        "id": "LEmdZEYsGBJp"
      },
      "execution_count": null,
      "outputs": []
    },
    {
      "cell_type": "markdown",
      "source": [
        "My own example 43"
      ],
      "metadata": {
        "id": "n5mV8bz0ClDY"
      }
    },
    {
      "cell_type": "code",
      "source": [
        "print(tupla[1:])"
      ],
      "metadata": {
        "colab": {
          "base_uri": "https://localhost:8080/"
        },
        "id": "dBNZKdXNGKOZ",
        "outputId": "c80a963f-9aa9-4356-b45a-a181ea8fb1e6"
      },
      "execution_count": null,
      "outputs": [
        {
          "output_type": "stream",
          "name": "stdout",
          "text": [
            "('te', 'conectaste')\n"
          ]
        }
      ]
    },
    {
      "cell_type": "markdown",
      "source": [
        "My own example 44"
      ],
      "metadata": {
        "id": "bomkQjgsClJY"
      }
    },
    {
      "cell_type": "code",
      "source": [
        "lista_stock = ['AAPL','GOOG','IBM','AAPL','IBM','FB','F','GOOG']\n",
        "stock_set = set(lista_stock)\n",
        "print(stock_set) #Elimina elementos duplicados "
      ],
      "metadata": {
        "colab": {
          "base_uri": "https://localhost:8080/"
        },
        "id": "jQT5vTzLGUXw",
        "outputId": "d7edbc81-37fb-4cc2-c305-b6aae3668448"
      },
      "execution_count": null,
      "outputs": [
        {
          "output_type": "stream",
          "name": "stdout",
          "text": [
            "{'GOOG', 'F', 'IBM', 'AAPL', 'FB'}\n"
          ]
        }
      ]
    },
    {
      "cell_type": "markdown",
      "source": [
        "My own example 45"
      ],
      "metadata": {
        "id": "Wk0wDjk9ClQR"
      }
    },
    {
      "cell_type": "code",
      "source": [
        "diccionario = {'APP':'Aplicacion', 'FB':'FaceBook', 'SOAP':'Servicio web'}"
      ],
      "metadata": {
        "id": "EMMPqTl7LVGk"
      },
      "execution_count": 3,
      "outputs": []
    },
    {
      "cell_type": "markdown",
      "source": [
        "My own example 46"
      ],
      "metadata": {
        "id": "jssqpccGClXV"
      }
    },
    {
      "cell_type": "code",
      "source": [
        "print(diccionario['SOAP'])"
      ],
      "metadata": {
        "colab": {
          "base_uri": "https://localhost:8080/"
        },
        "id": "qrjUj6xgLYTT",
        "outputId": "b0bbc2b9-6f05-4993-dbbb-5c412c1118f2"
      },
      "execution_count": null,
      "outputs": [
        {
          "output_type": "stream",
          "name": "stdout",
          "text": [
            "Servicio web\n"
          ]
        }
      ]
    },
    {
      "cell_type": "markdown",
      "source": [
        "My own example 47"
      ],
      "metadata": {
        "id": "1G8Qbd_eCldm"
      }
    },
    {
      "cell_type": "code",
      "source": [
        "diccionario['APP'] = 'Aplicacion web'\n",
        "print(diccionario['APP'])"
      ],
      "metadata": {
        "colab": {
          "base_uri": "https://localhost:8080/"
        },
        "id": "JOy1eCvAtBsf",
        "outputId": "d854affe-3118-44b3-a84f-0ecdc48d6b61"
      },
      "execution_count": 4,
      "outputs": [
        {
          "output_type": "stream",
          "name": "stdout",
          "text": [
            "Aplicacion web\n"
          ]
        }
      ]
    },
    {
      "cell_type": "markdown",
      "source": [
        "My own example 48"
      ],
      "metadata": {
        "id": "aS8WJz02CllY"
      }
    },
    {
      "cell_type": "code",
      "source": [
        "print(diccionario.keys())"
      ],
      "metadata": {
        "colab": {
          "base_uri": "https://localhost:8080/"
        },
        "id": "NECLmHVvtXLr",
        "outputId": "5cffe3cf-cdf6-4182-c589-a7a4771f063b"
      },
      "execution_count": 5,
      "outputs": [
        {
          "output_type": "stream",
          "name": "stdout",
          "text": [
            "dict_keys(['APP', 'FB', 'SOAP'])\n"
          ]
        }
      ]
    },
    {
      "cell_type": "markdown",
      "source": [
        "My own example 49"
      ],
      "metadata": {
        "id": "f0XaupmwCltc"
      }
    },
    {
      "cell_type": "code",
      "source": [
        "frase_bienvenida = 'Bienvenido al juego'\n",
        "print(frase_bienvenida[8:])"
      ],
      "metadata": {
        "colab": {
          "base_uri": "https://localhost:8080/"
        },
        "id": "oZlaAULItbzC",
        "outputId": "756ea3ce-325a-4084-fd7e-90c3bf55a843"
      },
      "execution_count": 6,
      "outputs": [
        {
          "output_type": "stream",
          "name": "stdout",
          "text": [
            "do al juego\n"
          ]
        }
      ]
    },
    {
      "cell_type": "markdown",
      "source": [
        "My own example 50"
      ],
      "metadata": {
        "id": "OFZ5OwDJCl1Y"
      }
    },
    {
      "cell_type": "code",
      "source": [
        "frase = 'Vamos a probar find y count'\n",
        "print(frase.find('a'))\n",
        "print(frase.count('a'))"
      ],
      "metadata": {
        "colab": {
          "base_uri": "https://localhost:8080/"
        },
        "id": "xF-d7n8buaw7",
        "outputId": "7ca8551d-2b39-40be-f441-33f0ed55746d"
      },
      "execution_count": 9,
      "outputs": [
        {
          "output_type": "stream",
          "name": "stdout",
          "text": [
            "1\n",
            "3\n"
          ]
        }
      ]
    },
    {
      "cell_type": "markdown",
      "source": [
        "My own example 51"
      ],
      "metadata": {
        "id": "uBacevJ6Cl9I"
      }
    },
    {
      "cell_type": "code",
      "source": [
        "print('Se va a remplazar la letra a'.replace('a', 'e'))"
      ],
      "metadata": {
        "colab": {
          "base_uri": "https://localhost:8080/"
        },
        "id": "pTDcCPTAu7sS",
        "outputId": "5df1ddcb-4976-43ea-b850-3a482e47d7a8"
      },
      "execution_count": 10,
      "outputs": [
        {
          "output_type": "stream",
          "name": "stdout",
          "text": [
            "Se ve e remplezer le letre e\n"
          ]
        }
      ]
    },
    {
      "cell_type": "markdown",
      "source": [
        "My own example 52"
      ],
      "metadata": {
        "id": "7ckLv1PKCmEG"
      }
    },
    {
      "cell_type": "code",
      "source": [
        "Fecha_hora = '2022-08-01 06:40:00'\n",
        "Fecha_hora_dividida = Fecha_hora.split(' ')\n",
        "Fecha = Fecha_hora_dividida[0]\n",
        "Hora = Fecha_hora_dividida[1]\n",
        "print(Fecha, Hora)\n",
        "minutos = Hora.split(':')[1]\n",
        "print(minutos)"
      ],
      "metadata": {
        "colab": {
          "base_uri": "https://localhost:8080/"
        },
        "id": "LbAz1ScmvFy0",
        "outputId": "cbbd2249-f161-4429-fafa-c66f987d1184"
      },
      "execution_count": 11,
      "outputs": [
        {
          "output_type": "stream",
          "name": "stdout",
          "text": [
            "2022-08-01 06:40:00\n",
            "40\n"
          ]
        }
      ]
    },
    {
      "cell_type": "markdown",
      "source": [
        "My own example 53"
      ],
      "metadata": {
        "id": "BNS0Y8W-CmLm"
      }
    },
    {
      "cell_type": "code",
      "source": [
        "tiempo = 'Hour: {}, Minute:{}'.format('06','40')\n",
        "print(tiempo)"
      ],
      "metadata": {
        "colab": {
          "base_uri": "https://localhost:8080/"
        },
        "id": "2ZP5HH_XvlfT",
        "outputId": "2e561d95-f03c-4058-d7b6-5fec99d8ea6f"
      },
      "execution_count": 12,
      "outputs": [
        {
          "output_type": "stream",
          "name": "stdout",
          "text": [
            "Hour: 06, Minute:40\n"
          ]
        }
      ]
    },
    {
      "cell_type": "markdown",
      "source": [
        "My own example 54"
      ],
      "metadata": {
        "id": "41JTinDGCmSY"
      }
    },
    {
      "cell_type": "code",
      "source": [
        "print('El numero pi es %f'%3.14)\n",
        "print('%s gamer %s'%('Hola','xd'))"
      ],
      "metadata": {
        "id": "KhHglQFiCeqU",
        "colab": {
          "base_uri": "https://localhost:8080/"
        },
        "outputId": "44f05fe2-6911-4b40-92b2-9fca2e8bb418"
      },
      "execution_count": 13,
      "outputs": [
        {
          "output_type": "stream",
          "name": "stdout",
          "text": [
            "El numero pi es 3.140000\n",
            "Hola gamer xd\n"
          ]
        }
      ]
    },
    {
      "cell_type": "markdown",
      "source": [
        "# Tutorial 2\n"
      ],
      "metadata": {
        "id": "IsBNVNehv9il"
      }
    },
    {
      "cell_type": "markdown",
      "source": [
        "My own example 55"
      ],
      "metadata": {
        "id": "Zx7UW_7LwHol"
      }
    },
    {
      "cell_type": "code",
      "source": [
        "print(2 == 0)\n",
        "print(3 == 3)"
      ],
      "metadata": {
        "colab": {
          "base_uri": "https://localhost:8080/"
        },
        "id": "iRI-eEhhwJ1y",
        "outputId": "52d22222-e149-4e36-cd1f-af825aeb3b78"
      },
      "execution_count": 14,
      "outputs": [
        {
          "output_type": "stream",
          "name": "stdout",
          "text": [
            "False\n",
            "True\n"
          ]
        }
      ]
    },
    {
      "cell_type": "markdown",
      "source": [
        "My own example 56"
      ],
      "metadata": {
        "id": "g3hKObbiwvyD"
      }
    },
    {
      "cell_type": "code",
      "source": [
        "print(4 != 3.5)"
      ],
      "metadata": {
        "colab": {
          "base_uri": "https://localhost:8080/"
        },
        "id": "Xni2wJ6PwqEb",
        "outputId": "6faf8634-cbdc-4ef8-e3f6-64243a194268"
      },
      "execution_count": 15,
      "outputs": [
        {
          "output_type": "stream",
          "name": "stdout",
          "text": [
            "True\n"
          ]
        }
      ]
    },
    {
      "cell_type": "markdown",
      "source": [
        "My own example 57"
      ],
      "metadata": {
        "id": "3EryosaSwySK"
      }
    },
    {
      "cell_type": "code",
      "source": [
        "print(5.0 >= 5)\n",
        "print(5 >= 8)"
      ],
      "metadata": {
        "colab": {
          "base_uri": "https://localhost:8080/"
        },
        "id": "tcUbWqIMwu7j",
        "outputId": "66d7afdb-2808-43ed-c0db-8de799b125d8"
      },
      "execution_count": 16,
      "outputs": [
        {
          "output_type": "stream",
          "name": "stdout",
          "text": [
            "True\n",
            "False\n"
          ]
        }
      ]
    },
    {
      "cell_type": "markdown",
      "source": [
        "My own example 58\n"
      ],
      "metadata": {
        "id": "sDF99Vmfw7QE"
      }
    },
    {
      "cell_type": "code",
      "source": [
        "print(2 > 1 and 6 > 2)\n",
        "print(3 > 1 and 5 < 2) "
      ],
      "metadata": {
        "colab": {
          "base_uri": "https://localhost:8080/"
        },
        "id": "I96hankyw4Py",
        "outputId": "baf63c41-2d3a-4aaf-aab2-9f4a148fa904"
      },
      "execution_count": 17,
      "outputs": [
        {
          "output_type": "stream",
          "name": "stdout",
          "text": [
            "True\n",
            "False\n"
          ]
        }
      ]
    },
    {
      "cell_type": "markdown",
      "source": [
        "My own example 59"
      ],
      "metadata": {
        "id": "BZAk1RQIxIKL"
      }
    },
    {
      "cell_type": "code",
      "source": [
        "print(2.5 > 1 or 1.2 < 2)"
      ],
      "metadata": {
        "colab": {
          "base_uri": "https://localhost:8080/"
        },
        "id": "Qq13wOaaxF6j",
        "outputId": "bc7b89d3-943f-432f-e021-4707e46af7b8"
      },
      "execution_count": 18,
      "outputs": [
        {
          "output_type": "stream",
          "name": "stdout",
          "text": [
            "True\n"
          ]
        }
      ]
    },
    {
      "cell_type": "markdown",
      "source": [
        "My own example 60"
      ],
      "metadata": {
        "id": "RNj-8lVSxKnk"
      }
    },
    {
      "cell_type": "code",
      "source": [
        "print((4 > 1 or 1 < 3) and (1!=1.1 and 4>3) and not ( 3 < 2 or 2 < 3 and (1!=3 and 4>3)))\n",
        "print(3 > 1 or 1 < 2 and (1!=3 and 4>3) and not ( 7 < 2 or 1 < 3 and (1!=3 and 5>3)))"
      ],
      "metadata": {
        "colab": {
          "base_uri": "https://localhost:8080/"
        },
        "id": "oQZjmnYDxLmj",
        "outputId": "7a6fc9b0-2239-4c7f-871e-185936c587ea"
      },
      "execution_count": 19,
      "outputs": [
        {
          "output_type": "stream",
          "name": "stdout",
          "text": [
            "False\n",
            "True\n"
          ]
        }
      ]
    },
    {
      "cell_type": "markdown",
      "source": [
        "My own example 61"
      ],
      "metadata": {
        "id": "W9Fy_aloxMRr"
      }
    },
    {
      "cell_type": "code",
      "source": [
        "i = 5\n",
        "if i != 0:\n",
        "    print('El número es mayor que 0')"
      ],
      "metadata": {
        "colab": {
          "base_uri": "https://localhost:8080/"
        },
        "id": "Gei70jV7xNZD",
        "outputId": "2c2dfd0d-c667-41a0-a9fc-0a2fddaccedb"
      },
      "execution_count": 20,
      "outputs": [
        {
          "output_type": "stream",
          "name": "stdout",
          "text": [
            "El número es mayor que 0\n"
          ]
        }
      ]
    },
    {
      "cell_type": "markdown",
      "source": [
        "My own example 62"
      ],
      "metadata": {
        "id": "lxuK4UmmxPI1"
      }
    },
    {
      "cell_type": "code",
      "source": [
        "p = 1 > 0\n",
        "q = 2 > 3\n",
        "if p and q:\n",
        "    print('Ambos son true')\n",
        "elif p and not q:\n",
        "    print('Son distintos')\n",
        "elif q and not p:\n",
        "    print('P quedó falso')\n",
        "else:\n",
        "    print('Ninguno de los valores son verdaderos')"
      ],
      "metadata": {
        "colab": {
          "base_uri": "https://localhost:8080/"
        },
        "id": "35wtzq_zxQIz",
        "outputId": "9497c72b-4ed9-4731-c736-c6b9750b7270"
      },
      "execution_count": 21,
      "outputs": [
        {
          "output_type": "stream",
          "name": "stdout",
          "text": [
            "Son distintos\n"
          ]
        }
      ]
    },
    {
      "cell_type": "markdown",
      "source": [
        "My own example 63"
      ],
      "metadata": {
        "id": "Ht8cn0h20BDC"
      }
    },
    {
      "cell_type": "code",
      "source": [
        "i = 1\n",
        "while i < 4:\n",
        "    print(i)\n",
        "    i += 1  "
      ],
      "metadata": {
        "colab": {
          "base_uri": "https://localhost:8080/"
        },
        "id": "IKx9VRzbz_pb",
        "outputId": "6d6c04dd-3011-4730-9131-6dcd48dbb1de"
      },
      "execution_count": 23,
      "outputs": [
        {
          "output_type": "stream",
          "name": "stdout",
          "text": [
            "1\n",
            "2\n",
            "3\n"
          ]
        }
      ]
    },
    {
      "cell_type": "markdown",
      "source": [
        "My own example 64"
      ],
      "metadata": {
        "id": "YBVCZFzf0Djq"
      }
    },
    {
      "cell_type": "code",
      "source": [
        "for i in [1,2,3,4]:\n",
        "    print(i)"
      ],
      "metadata": {
        "colab": {
          "base_uri": "https://localhost:8080/"
        },
        "id": "SeAHkf2y0EkE",
        "outputId": "04d1ad4a-b318-4a64-c852-c51391d16db7"
      },
      "execution_count": 24,
      "outputs": [
        {
          "output_type": "stream",
          "name": "stdout",
          "text": [
            "1\n",
            "2\n",
            "3\n",
            "4\n"
          ]
        }
      ]
    },
    {
      "cell_type": "markdown",
      "source": [
        "My own example 65"
      ],
      "metadata": {
        "id": "nXdzc8mT0FCq"
      }
    },
    {
      "cell_type": "code",
      "source": [
        "apps = ['APP','FB','IG']\n",
        "seleccionadas = ['APP','FB']\n",
        "lista = []\n",
        "for i in apps:\n",
        "    if i not in seleccionadas:\n",
        "        lista.append(i)\n",
        "print(apps)"
      ],
      "metadata": {
        "colab": {
          "base_uri": "https://localhost:8080/"
        },
        "id": "RmfPda0u0F_C",
        "outputId": "229b1ae1-99d5-4f3f-c001-ebad4a4ca809"
      },
      "execution_count": 27,
      "outputs": [
        {
          "output_type": "stream",
          "name": "stdout",
          "text": [
            "['APP', 'FB', 'IG']\n"
          ]
        }
      ]
    },
    {
      "cell_type": "markdown",
      "source": [
        "My own example 66"
      ],
      "metadata": {
        "id": "WYdMbfV_0GjK"
      }
    },
    {
      "cell_type": "code",
      "source": [
        "for i in lista:\n",
        "  print(lista)"
      ],
      "metadata": {
        "colab": {
          "base_uri": "https://localhost:8080/"
        },
        "id": "zkykoI_C0HRi",
        "outputId": "99483b85-c707-4b9b-982b-a2c498fddbb6"
      },
      "execution_count": 30,
      "outputs": [
        {
          "output_type": "stream",
          "name": "stdout",
          "text": [
            "['IG']\n"
          ]
        }
      ]
    },
    {
      "cell_type": "markdown",
      "source": [
        "My own example 67"
      ],
      "metadata": {
        "id": "orxE6TTh0H3_"
      }
    },
    {
      "cell_type": "code",
      "source": [
        "for i in apps:\n",
        "    print(i)\n",
        "    if i == 'FB':\n",
        "        break"
      ],
      "metadata": {
        "colab": {
          "base_uri": "https://localhost:8080/"
        },
        "id": "obohee1E0I9C",
        "outputId": "610af7b8-2081-4d67-9e7e-96f2311cb324"
      },
      "execution_count": 31,
      "outputs": [
        {
          "output_type": "stream",
          "name": "stdout",
          "text": [
            "APP\n",
            "FB\n"
          ]
        }
      ]
    },
    {
      "cell_type": "markdown",
      "source": [
        "My own example 68"
      ],
      "metadata": {
        "id": "mKC7PK1n0JqC"
      }
    },
    {
      "cell_type": "code",
      "source": [
        "for i in apps:\n",
        "    if i == 'FB':\n",
        "        continue\n",
        "    print(i)"
      ],
      "metadata": {
        "colab": {
          "base_uri": "https://localhost:8080/"
        },
        "id": "2mwCxKWq0LpC",
        "outputId": "18ac48a1-4f7e-40b4-e724-cae5d9a9a8d0"
      },
      "execution_count": 32,
      "outputs": [
        {
          "output_type": "stream",
          "name": "stdout",
          "text": [
            "APP\n",
            "IG\n"
          ]
        }
      ]
    },
    {
      "cell_type": "markdown",
      "source": [
        "My own example 69\n"
      ],
      "metadata": {
        "id": "uNXiPzTY0NXS"
      }
    },
    {
      "cell_type": "code",
      "source": [
        "potencias = []\n",
        "for i in [1,2,3]:\n",
        "    potencias.append(i**2)\n",
        "print(potencias)"
      ],
      "metadata": {
        "colab": {
          "base_uri": "https://localhost:8080/"
        },
        "id": "oqukm7bJ0W9i",
        "outputId": "c678bea3-77c4-479d-f757-1a5839ac0bf6"
      },
      "execution_count": 38,
      "outputs": [
        {
          "output_type": "stream",
          "name": "stdout",
          "text": [
            "[1, 4, 9]\n"
          ]
        }
      ]
    },
    {
      "cell_type": "markdown",
      "source": [
        "My own example 70"
      ],
      "metadata": {
        "id": "uLuGEttY0Xbj"
      }
    },
    {
      "cell_type": "code",
      "source": [
        "for i in potencias:\n",
        "  if i < 2:\n",
        "    continue\n",
        "  print(i)"
      ],
      "metadata": {
        "colab": {
          "base_uri": "https://localhost:8080/"
        },
        "id": "MGwFj-5w0YOS",
        "outputId": "2f563b3d-c049-41fa-cb1d-bdb50611c492"
      },
      "execution_count": 41,
      "outputs": [
        {
          "output_type": "stream",
          "name": "stdout",
          "text": [
            "4\n",
            "9\n"
          ]
        }
      ]
    },
    {
      "cell_type": "markdown",
      "source": [
        "My own example 71"
      ],
      "metadata": {
        "id": "Fd-vG5Gz0Ysb"
      }
    },
    {
      "cell_type": "code",
      "source": [
        "numeros = [1,3,5]\n",
        "potencias = [x**2 for x in numeros]\n",
        "print(potencias)"
      ],
      "metadata": {
        "colab": {
          "base_uri": "https://localhost:8080/"
        },
        "id": "CXGm4JfZ0ZcS",
        "outputId": "22f1d8bd-733f-4f38-c93c-ede1bc08e7bc"
      },
      "execution_count": 47,
      "outputs": [
        {
          "output_type": "stream",
          "name": "stdout",
          "text": [
            "[1, 9, 25]\n"
          ]
        }
      ]
    },
    {
      "cell_type": "markdown",
      "source": [
        "My own example 72"
      ],
      "metadata": {
        "id": "RwxqqD_70Z7D"
      }
    },
    {
      "cell_type": "code",
      "source": [
        "potencias = [x*2 for x in potencias]\n",
        "print(potencias)"
      ],
      "metadata": {
        "colab": {
          "base_uri": "https://localhost:8080/"
        },
        "id": "zlfU7zTv0awS",
        "outputId": "98125f22-54e7-4e20-faa4-ff96aeafd670"
      },
      "execution_count": 48,
      "outputs": [
        {
          "output_type": "stream",
          "name": "stdout",
          "text": [
            "[2, 18, 50]\n"
          ]
        }
      ]
    },
    {
      "cell_type": "markdown",
      "source": [
        "My own example 73"
      ],
      "metadata": {
        "id": "TdzaA-d20bKj"
      }
    },
    {
      "cell_type": "code",
      "source": [
        "nueva_lista = [x for x in apps if x in seleccionadas]\n",
        "print(nueva_lista)"
      ],
      "metadata": {
        "colab": {
          "base_uri": "https://localhost:8080/"
        },
        "id": "Cv_7grBk0cAi",
        "outputId": "cc86c652-18bc-456c-de90-d018af0cf50b"
      },
      "execution_count": 50,
      "outputs": [
        {
          "output_type": "stream",
          "name": "stdout",
          "text": [
            "['APP', 'FB']\n"
          ]
        }
      ]
    },
    {
      "cell_type": "markdown",
      "source": [
        "My own example 74"
      ],
      "metadata": {
        "id": "pmgVpSRp0clj"
      }
    },
    {
      "cell_type": "code",
      "source": [
        "print([(x, y) for x in [1,2,3] for y in [3,1,4] if x != y])"
      ],
      "metadata": {
        "colab": {
          "base_uri": "https://localhost:8080/"
        },
        "id": "9J9uMsyz0dgD",
        "outputId": "7c81f4e8-a1dc-4bd6-f365-6e75e16b48ec"
      },
      "execution_count": 52,
      "outputs": [
        {
          "output_type": "stream",
          "name": "stdout",
          "text": [
            "[(1, 3), (1, 4), (2, 3), (2, 1), (2, 4), (3, 1), (3, 4)]\n"
          ]
        }
      ]
    },
    {
      "cell_type": "markdown",
      "source": [
        "My own example 75"
      ],
      "metadata": {
        "id": "MyODvQZh0d0q"
      }
    },
    {
      "cell_type": "code",
      "source": [
        "print([str(x)+' vs '+str(y) for x in apps for y in ['F','V','G'] if x!=y])"
      ],
      "metadata": {
        "colab": {
          "base_uri": "https://localhost:8080/"
        },
        "id": "QvLVw4mK0e9y",
        "outputId": "ca3899ca-4af4-4400-f42f-cbdee3594ba1"
      },
      "execution_count": 54,
      "outputs": [
        {
          "output_type": "stream",
          "name": "stdout",
          "text": [
            "['APP vs F', 'APP vs V', 'APP vs G', 'FB vs F', 'FB vs V', 'FB vs G', 'IG vs F', 'IG vs V', 'IG vs G']\n"
          ]
        }
      ]
    },
    {
      "cell_type": "markdown",
      "source": [
        "My own example 76"
      ],
      "metadata": {
        "id": "nCTEA0RY0fcS"
      }
    },
    {
      "cell_type": "code",
      "source": [
        "print([x+' como '+y for x in apps for y in ['A','F','I'] if x[0]==y])"
      ],
      "metadata": {
        "colab": {
          "base_uri": "https://localhost:8080/"
        },
        "id": "FFFUWOVZ0gxS",
        "outputId": "730ea6d3-e2cb-46e6-dff1-3f7e64ff0ee1"
      },
      "execution_count": 56,
      "outputs": [
        {
          "output_type": "stream",
          "name": "stdout",
          "text": [
            "['APP como A', 'FB como F', 'IG como I']\n"
          ]
        }
      ]
    },
    {
      "cell_type": "markdown",
      "source": [
        "# Lectura 3"
      ],
      "metadata": {
        "id": "9eUB7d9X5uFj"
      }
    },
    {
      "cell_type": "markdown",
      "source": [
        "My own example 77"
      ],
      "metadata": {
        "id": "sn4Z3euz6S9S"
      }
    },
    {
      "cell_type": "code",
      "source": [
        "import numpy as np\n",
        "import matplotlib.pyplot as plt"
      ],
      "metadata": {
        "id": "CNY7sqIe6Sey"
      },
      "execution_count": 57,
      "outputs": []
    },
    {
      "cell_type": "markdown",
      "source": [
        "My own example 78"
      ],
      "metadata": {
        "id": "Yt_86_Sl6Yqy"
      }
    },
    {
      "cell_type": "code",
      "source": [
        "valores = [3.1, 1, 5, 9.1, 4.2]\n",
        "arraynp = np.array(valores)\n",
        "print (arraynp, type(arraynp))"
      ],
      "metadata": {
        "colab": {
          "base_uri": "https://localhost:8080/"
        },
        "id": "oIeenyXL6Zii",
        "outputId": "a8afed74-8aba-4d44-868f-7392003123d4"
      },
      "execution_count": 73,
      "outputs": [
        {
          "output_type": "stream",
          "name": "stdout",
          "text": [
            "[3.1 1.  5.  9.1 4.2] <class 'numpy.ndarray'>\n"
          ]
        }
      ]
    },
    {
      "cell_type": "markdown",
      "source": [
        "My own example 79"
      ],
      "metadata": {
        "id": "CWlRFynI6Z4l"
      }
    },
    {
      "cell_type": "code",
      "source": [
        "matriz = np.array([[1, 2], [3, 4]])\n",
        "print (matriz, type(matriz))"
      ],
      "metadata": {
        "colab": {
          "base_uri": "https://localhost:8080/"
        },
        "id": "U_jjOo8Q6arS",
        "outputId": "b36be41e-046d-4fdf-b925-274009d9e411"
      },
      "execution_count": 74,
      "outputs": [
        {
          "output_type": "stream",
          "name": "stdout",
          "text": [
            "[[1 2]\n",
            " [3 4]] <class 'numpy.ndarray'>\n"
          ]
        }
      ]
    },
    {
      "cell_type": "markdown",
      "source": [
        "My own example 80"
      ],
      "metadata": {
        "id": "S1a-GpZq6c1i"
      }
    },
    {
      "cell_type": "code",
      "source": [
        "print (matriz.shape)"
      ],
      "metadata": {
        "colab": {
          "base_uri": "https://localhost:8080/"
        },
        "id": "V4H_ruYO6dkh",
        "outputId": "15de1b8e-4bdf-4cbe-c78f-8fddc2431971"
      },
      "execution_count": 63,
      "outputs": [
        {
          "output_type": "stream",
          "name": "stdout",
          "text": [
            "(2, 2)\n"
          ]
        }
      ]
    },
    {
      "cell_type": "markdown",
      "source": [
        "My own example 81"
      ],
      "metadata": {
        "id": "-kw4sR_g6eEq"
      }
    },
    {
      "cell_type": "code",
      "source": [
        "print (arraynp[0], arraynp[len(arraynp) - 1])"
      ],
      "metadata": {
        "colab": {
          "base_uri": "https://localhost:8080/"
        },
        "id": "-WmkhZFp6e7C",
        "outputId": "848e0b36-8de4-490e-a214-1b64a2029259"
      },
      "execution_count": 64,
      "outputs": [
        {
          "output_type": "stream",
          "name": "stdout",
          "text": [
            "3.5 4.2\n"
          ]
        }
      ]
    },
    {
      "cell_type": "markdown",
      "source": [
        "My own example 82"
      ],
      "metadata": {
        "id": "nwA-2d0F8Oa8"
      }
    },
    {
      "cell_type": "code",
      "source": [
        "print (matriz[:, 0])\n"
      ],
      "metadata": {
        "colab": {
          "base_uri": "https://localhost:8080/"
        },
        "id": "xivlN9Fv8Fky",
        "outputId": "5f211b09-acc7-40dd-cf8f-d76aaf3d428f"
      },
      "execution_count": 66,
      "outputs": [
        {
          "output_type": "stream",
          "name": "stdout",
          "text": [
            "[1 3]\n"
          ]
        }
      ]
    },
    {
      "cell_type": "markdown",
      "source": [
        "My own example 83"
      ],
      "metadata": {
        "id": "GYoekpqu8RNq"
      }
    },
    {
      "cell_type": "code",
      "source": [
        "print (type(matriz[0,:]))"
      ],
      "metadata": {
        "colab": {
          "base_uri": "https://localhost:8080/"
        },
        "id": "CqiOKlYn8SJi",
        "outputId": "79df6bc7-1eec-41b6-ff4f-6ec8c1ca262e"
      },
      "execution_count": 68,
      "outputs": [
        {
          "output_type": "stream",
          "name": "stdout",
          "text": [
            "<class 'numpy.ndarray'>\n"
          ]
        }
      ]
    },
    {
      "cell_type": "markdown",
      "source": [
        "My own example 84"
      ],
      "metadata": {
        "id": "OTyXHDEJ8TBS"
      }
    },
    {
      "cell_type": "code",
      "source": [
        "print (matriz[0, 1])"
      ],
      "metadata": {
        "colab": {
          "base_uri": "https://localhost:8080/"
        },
        "id": "Qn6_ALCY8Txi",
        "outputId": "97e23d53-41fc-4ff0-8076-d179f1251e6b"
      },
      "execution_count": 70,
      "outputs": [
        {
          "output_type": "stream",
          "name": "stdout",
          "text": [
            "2\n"
          ]
        }
      ]
    },
    {
      "cell_type": "markdown",
      "source": [
        "My own example 85"
      ],
      "metadata": {
        "id": "pllgNzEg8UBz"
      }
    },
    {
      "cell_type": "code",
      "source": [
        "print (np.log(arraynp))"
      ],
      "metadata": {
        "colab": {
          "base_uri": "https://localhost:8080/"
        },
        "id": "kIm2rHnz8Uxy",
        "outputId": "a405d738-be84-46d1-96c0-38ae4795a85d"
      },
      "execution_count": 75,
      "outputs": [
        {
          "output_type": "stream",
          "name": "stdout",
          "text": [
            "[1.13140211 0.         1.60943791 2.20827441 1.43508453]\n"
          ]
        }
      ]
    },
    {
      "cell_type": "markdown",
      "source": [
        "My own example 86"
      ],
      "metadata": {
        "id": "gjecbEAG8VRq"
      }
    },
    {
      "cell_type": "code",
      "source": [
        "print (np.max(arraynp))"
      ],
      "metadata": {
        "colab": {
          "base_uri": "https://localhost:8080/"
        },
        "id": "d8OVBV8G8WVy",
        "outputId": "841dde61-20ed-4431-c32f-6975a280d16a"
      },
      "execution_count": 76,
      "outputs": [
        {
          "output_type": "stream",
          "name": "stdout",
          "text": [
            "9.1\n"
          ]
        }
      ]
    },
    {
      "cell_type": "markdown",
      "source": [
        "My own example 87"
      ],
      "metadata": {
        "id": "k1cpE9wC9dEK"
      }
    },
    {
      "cell_type": "code",
      "source": [
        "arraynp*5.4 + 1"
      ],
      "metadata": {
        "colab": {
          "base_uri": "https://localhost:8080/"
        },
        "id": "txppGmGk9Swi",
        "outputId": "a36f19f0-9620-4858-b7a5-cfbf5ca21001"
      },
      "execution_count": 78,
      "outputs": [
        {
          "output_type": "execute_result",
          "data": {
            "text/plain": [
              "array([17.74,  6.4 , 28.  , 50.14, 23.68])"
            ]
          },
          "metadata": {},
          "execution_count": 78
        }
      ]
    },
    {
      "cell_type": "markdown",
      "source": [
        "My own example 88"
      ],
      "metadata": {
        "id": "xphIu69w9ili"
      }
    },
    {
      "cell_type": "code",
      "source": [
        "N = 15\n",
        "assets = np.zeros((N, 100))\n",
        "returns = np.zeros((N, 100))"
      ],
      "metadata": {
        "id": "_H6cNz7k9jbx"
      },
      "execution_count": 88,
      "outputs": []
    },
    {
      "cell_type": "markdown",
      "source": [
        "My own example 89"
      ],
      "metadata": {
        "id": "MMLBEUu39j07"
      }
    },
    {
      "cell_type": "code",
      "source": [
        "random_1 = np.random.normal(1.01, 0.03, 100)\n",
        "returns[0] = random_1\n",
        "assets[0] = np.cumprod(random_1)"
      ],
      "metadata": {
        "id": "fx0Cm9dT9ksx"
      },
      "execution_count": 89,
      "outputs": []
    },
    {
      "cell_type": "markdown",
      "source": [
        "My own example 90"
      ],
      "metadata": {
        "id": "AF5IBJg29lPK"
      }
    },
    {
      "cell_type": "code",
      "source": [
        "for i in range(1, N):\n",
        "    random_i = random_1 + np.random.normal(0.001, 0.02, 100)\n",
        "    returns[i] = random_i \n",
        "    assets[i] = np.cumprod(random_i)\n",
        "    \n",
        "media_returns = [(np.mean(R) - 1)*100 for R in returns]\n",
        "return_volatilities = [np.std(R) for R in returns]"
      ],
      "metadata": {
        "id": "X903a5FZ9mCC"
      },
      "execution_count": 92,
      "outputs": []
    },
    {
      "cell_type": "markdown",
      "source": [
        "My own example 91"
      ],
      "metadata": {
        "id": "5j6d8VbU9mk6"
      }
    },
    {
      "cell_type": "code",
      "source": [
        "plt.bar(np.arange(len(media_returns)), media_returns)\n",
        "plt.xlabel('Lista')\n",
        "plt.ylabel('Returns')\n",
        "plt.title('Returns para {0} Assets random'.format(N));"
      ],
      "metadata": {
        "colab": {
          "base_uri": "https://localhost:8080/",
          "height": 295
        },
        "id": "-wSwAjTw9nXB",
        "outputId": "fe2707ed-07e7-4de1-dc53-96f77a5936ad"
      },
      "execution_count": 94,
      "outputs": [
        {
          "output_type": "display_data",
          "data": {
            "text/plain": [
              "<Figure size 432x288 with 1 Axes>"
            ],
            "image/png": "[encoded data removed]"
          },
          "metadata": {
            "needs_background": "light"
          }
        }
      ]
    },
    {
      "cell_type": "code",
      "source": [],
      "metadata": {
        "id": "EJdmuMn5_MaB"
      },
      "execution_count": null,
      "outputs": []
    }
  ],
  "metadata": {
    "colab": {
      "name": "Lab1.ipynb",
      "toc_visible": true,
      "provenance": [],
      "authorship_tag": "ABX9TyPKWvwJKu07eOuQlxGVCaCG",
      "include_colab_link": true
    },
    "kernelspec": {
      "display_name": "Python 3",
      "name": "python3"
    },
    "language_info": {
      "name": "python"
    }
  },
  "nbformat": 4,
  "nbformat_minor": 0
}