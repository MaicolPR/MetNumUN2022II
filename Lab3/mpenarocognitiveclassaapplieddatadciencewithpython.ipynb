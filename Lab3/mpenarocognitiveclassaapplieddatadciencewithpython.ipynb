{
  "nbformat": 4,
  "nbformat_minor": 0,
  "metadata": {
    "colab": {
      "provenance": [],
      "authorship_tag": "ABX9TyN5UseX1Y1bfvWHUUrmCNt5",
      "include_colab_link": true
    },
    "kernelspec": {
      "name": "python3",
      "display_name": "Python 3"
    },
    "language_info": {
      "name": "python"
    }
  },
  "cells": [
    {
      "cell_type": "markdown",
      "metadata": {
        "id": "view-in-github",
        "colab_type": "text"
      },
      "source": [
        "<a href=\"https://colab.research.google.com/github/mpenaro/MetNumUN2022II/blob/main/Lab3/mpenarocognitiveclassaapplieddatadciencewithpython.ipynb\" target=\"_parent\"><img src=\"https://colab.research.google.com/assets/colab-badge.svg\" alt=\"Open In Colab\"/></a>"
      ]
    },
    {
      "cell_type": "markdown",
      "source": [
        "Perfil Linkedin:\n",
        "www.linkedin.com/in/maicol-estiven-peña-rodriguez-365b94217"
      ],
      "metadata": {
        "id": "DPFx0jnJd73V"
      }
    },
    {
      "cell_type": "code",
      "source": [],
      "metadata": {
        "id": "rDBOlZKJd9hp"
      },
      "execution_count": null,
      "outputs": []
    }
  ]
}